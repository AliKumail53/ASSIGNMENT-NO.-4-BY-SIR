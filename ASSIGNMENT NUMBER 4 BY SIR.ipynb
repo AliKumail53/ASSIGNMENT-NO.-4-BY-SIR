{
 "cells": [
  {
   "cell_type": "code",
   "execution_count": 1,
   "id": "79432d0b",
   "metadata": {},
   "outputs": [],
   "source": [
    "#1 Make a calculator using python with addition, subtraction, multiplication, division and power.\n",
    "\n",
    "from tkinter import *\n",
    "\n",
    "def btnClick(number):\n",
    "    global val\n",
    "    val = val + str(number)\n",
    "    data.set(val)\n",
    "    \n",
    "def btnClear():\n",
    "    global val\n",
    "    val = \"\"\n",
    "    data.set(\"\")\n",
    "    \n",
    "def btnEquals():\n",
    "    global val\n",
    "    result = str(eval(val))\n",
    "    data.set(result)\n",
    "\n",
    "root = Tk()\n",
    "root.title(\"KURA SAIL CALCULATOR\")\n",
    "root.geometry(\"361x381+500+200\")\n",
    "val = \"\"\n",
    "data = str()\n",
    "display = Entry(root,textvariable=data,bd=29,justify=\"right\",bg=\"coral\",font=(\"arial\", 20))\n",
    "display.grid(row=0, columnspan=4)\n",
    "btn7 = Button(root,text=\"7\",font=(\"Arial\",12,\"bold\"),bd=12,height=2,width=6,command=lambda:btnClick(7))\n",
    "btn7.grid(row=1,column=0)\n",
    "btn8 = Button(root,text=\"8\",font=(\"Arial\",12,\"bold\"),bd=12,height=2,width=6,command=lambda:btnClick(8))\n",
    "btn8.grid(row=1,column=1)\n",
    "btn9 = Button(root,text=\"9\",font=(\"Arial\",12,\"bold\"),bd=12,height=2,width=6,command=lambda:btnClick(9))\n",
    "btn9.grid(row=1,column=2)\n",
    "btn_upon = Button(root,text=\"÷\",font=(\"Arial\",12,\"bold\"),bd=12,height=2,width=6,command=lambda:btnClick('÷'))\n",
    "btn_upon.grid(row=1,column=3)\n",
    "\n",
    "btn4 = Button(root,text=\"4\",font=(\"Arial\",12,\"bold\"),bd=12,height=2,width=6,command=lambda:btnClick(4))\n",
    "btn4.grid(row=2,column=0)\n",
    "btn5 = Button(root,text=\"5\",font=(\"Arial\",12,\"bold\"),bd=12,height=2,width=6,command=lambda:btnClick(5))\n",
    "btn5.grid(row=2,column=1)\n",
    "btn6 = Button(root,text=\"6\",font=(\"Arial\",12,\"bold\"),bd=12,height=2,width=6,command=lambda:btnClick(6))\n",
    "btn6.grid(row=2,column=2)\n",
    "btn_cross = Button(root,text=\"*\",font=(\"Arial\",12,\"bold\"),bd=12,height=2,width=6,command=lambda:btnClick('*'))\n",
    "btn_cross.grid(row=2,column=3)\n",
    "\n",
    "btn1 = Button(root,text=\"1\",font=(\"Arial\",12,\"bold\"),bd=12,height=2,width=6,command=lambda:btnClick(1))\n",
    "btn1.grid(row=3,column=0)\n",
    "btn2 = Button(root,text=\"2\",font=(\"Arial\",12,\"bold\"),bd=12,height=2,width=6,command=lambda:btnClick(2))\n",
    "btn2.grid(row=3,column=1)\n",
    "btn3 = Button(root,text=\"3\",font=(\"Arial\",12,\"bold\"),bd=12,height=2,width=6,command=lambda:btnClick(3))\n",
    "btn3.grid(row=3,column=2)\n",
    "btn_minus = Button(root,text=\"-\",font=(\"Arial\",12,\"bold\"),bd=12,height=2,width=6,command=lambda:btnClick('-'))\n",
    "btn_minus.grid(row=3,column=3)\n",
    "\n",
    "btn0 = Button(root,text=\"0\",font=(\"Arial\",12,\"bold\"),bd=12,height=2,width=6,command=lambda:btnClick(0))\n",
    "btn0.grid(row=4,column=0)\n",
    "btn_clear = Button(root,text=\"C\",font=(\"Arial\",12,\"bold\"),bd=12,height=2,width=6,command=btnClear)\n",
    "btn_clear.grid(row=4,column=1)\n",
    "btn_equal = Button(root,text=\"=\",font=(\"Arial\",12,\"bold\"),bd=12,height=2,width=6,command=btnEquals)\n",
    "btn_equal.grid(row=4,column=2)\n",
    "btn_plus = Button(root,text=\"+\",font=(\"Arial\",12,\"bold\"),bd=12,height=2,width=6,command=lambda:btnClick('+'))\n",
    "btn_plus.grid(row=4,column=3)\n",
    "\n",
    "root.mainloop()\n",
    "\n"
   ]
  },
  {
   "cell_type": "code",
   "execution_count": 2,
   "id": "082b812f",
   "metadata": {},
   "outputs": [
    {
     "name": "stdout",
     "output_type": "stream",
     "text": [
      "23\n",
      "314\n",
      "62\n",
      "11\n",
      "7\n"
     ]
    }
   ],
   "source": [
    "#2 Write a program to check if there is any numeric value in list using for loop.\n",
    "\n",
    "x = [23, \"books\", 314, 62, \"notebooks\", 11, 7]\n",
    "for i in x:\n",
    "    if type(i) == int:\n",
    "        print(i)\n",
    "        "
   ]
  },
  {
   "cell_type": "code",
   "execution_count": 3,
   "id": "1792343e",
   "metadata": {},
   "outputs": [
    {
     "name": "stdout",
     "output_type": "stream",
     "text": [
      "{7: 'Ronaldo', 10: 'Messi', 22: 'Neymar', 53: 'Modric'}\n"
     ]
    }
   ],
   "source": [
    "#3 Write a python script to add a key to a dictionary.\n",
    "\n",
    "dict_1 = {\n",
    "    7: \"Ronaldo\",\n",
    "    10: \"Messi\",\n",
    "    22: \"Neymar\",\n",
    "}\n",
    "dict_1[53] = \"Modric\"\n",
    "print(dict_1)\n",
    "\n"
   ]
  },
  {
   "cell_type": "code",
   "execution_count": 4,
   "id": "c5f3b410",
   "metadata": {},
   "outputs": [
    {
     "name": "stdout",
     "output_type": "stream",
     "text": [
      "614\n",
      "89\n"
     ]
    }
   ],
   "source": [
    "#4 Write a python program to sum all the nummeric items in a dictionary.\n",
    "\n",
    "# Method 2\n",
    "an_dict = {23: 31, 234: 16, 357: 42}\n",
    "print(sum(an_dict.keys()))\n",
    "\n",
    "# Method 1\n",
    "an_dict = {23: 31, 234: 16, 357: 42}\n",
    "s_u_m = 0\n",
    "for i in an_dict.values():\n",
    "    s_u_m = s_u_m + i\n",
    "print(s_u_m)   \n",
    "\n"
   ]
  },
  {
   "cell_type": "code",
   "execution_count": 5,
   "id": "54d0e9fe",
   "metadata": {},
   "outputs": [
    {
     "name": "stdout",
     "output_type": "stream",
     "text": [
      "26\n",
      "Html\n"
     ]
    }
   ],
   "source": [
    "#5 Write a python program to identify duplicate values from list.\n",
    "\n",
    "x = [\"python\", \"C++\", 26, \"java\", 34.7, \"Html\", 26, \"Html\"]\n",
    "y = []\n",
    "for i in x:\n",
    "    if i not in y:\n",
    "        y.append(i)\n",
    "    else:\n",
    "        print(i)\n",
    "        "
   ]
  },
  {
   "cell_type": "code",
   "execution_count": 6,
   "id": "e45e9e92",
   "metadata": {},
   "outputs": [
    {
     "name": "stdout",
     "output_type": "stream",
     "text": [
      "['python', 'C++', 26, 'java', 34.7, 'Html']\n"
     ]
    }
   ],
   "source": [
    "# part of 5th question...\n",
    "\n",
    "x = [\"python\", \"C++\", 26, \"java\", 34.7, \"Html\", 26, \"Html\"]\n",
    "y = []\n",
    "for i in x:\n",
    "    if i not in y:\n",
    "        y.append(i)\n",
    "print(y)\n",
    "\n",
    "# UNIQUE ELEMENTS"
   ]
  },
  {
   "cell_type": "code",
   "execution_count": 7,
   "id": "f03c92bd",
   "metadata": {},
   "outputs": [
    {
     "name": "stdout",
     "output_type": "stream",
     "text": [
      "Enter a key:  10\n",
      "Key is present in the dictionary🔥\n"
     ]
    }
   ],
   "source": [
    "#6 Write a python script to check if a given key already exists in a dictionary.\n",
    "\n",
    "x = {7: \"Ronaldo\", 10: \"Messi\", 22: \"Neymar\",  1: \"pepe\"}\n",
    "p = int(input(\"Enter a key: \"))\n",
    "if p in x.keys():\n",
    "    print(\"Key is present in the dictionary🔥\")\n",
    "else:\n",
    "    print(\"Key is not present\")\n",
    "\n"
   ]
  }
 ],
 "metadata": {
  "kernelspec": {
   "display_name": "Python 3",
   "language": "python",
   "name": "python3"
  },
  "language_info": {
   "codemirror_mode": {
    "name": "ipython",
    "version": 3
   },
   "file_extension": ".py",
   "mimetype": "text/x-python",
   "name": "python",
   "nbconvert_exporter": "python",
   "pygments_lexer": "ipython3",
   "version": "3.8.8"
  }
 },
 "nbformat": 4,
 "nbformat_minor": 5
}
